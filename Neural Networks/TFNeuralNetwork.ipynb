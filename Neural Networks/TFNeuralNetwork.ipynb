{
  "cells": [
    {
      "cell_type": "code",
      "execution_count": 1,
      "outputs": [
        {
          "name": "stderr",
          "text": [
            "Using TensorFlow backend.\n"
          ],
          "output_type": "stream"
        }
      ],
      "source": "import numpy as np\nimport tensorflow as tf\nimport keras\nfrom keras.models import Sequential\nfrom keras.layers import Dense, Activation\nfrom sklearn.preprocessing import normalize",
      "metadata": {
        "pycharm": {
          "metadata": false,
          "name": "#%%\n",
          "is_executing": false
        }
      }
    },
    {
      "cell_type": "code",
      "execution_count": 2,
      "outputs": [
        {
          "name": "stdout",
          "text": [
            "1.16.2\n1.13.1\n"
          ],
          "output_type": "stream"
        }
      ],
      "source": "print( np.__version__)\nprint( tf.__version__)",
      "metadata": {
        "pycharm": {
          "metadata": false,
          "name": "#%%\n",
          "is_executing": false
        }
      }
    },
    {
      "cell_type": "markdown",
      "source": "## Import Data",
      "metadata": {
        "pycharm": {
          "metadata": false
        }
      }
    },
    {
      "cell_type": "code",
      "execution_count": 3,
      "outputs": [
        {
          "data": {
            "text/plain": "((872, 4), (872,), (500, 4), (500,))"
          },
          "metadata": {},
          "output_type": "execute_result",
          "execution_count": 3
        }
      ],
      "source": "train_data \u003d np.genfromtxt( \"bank-note/train.csv\", delimiter\u003d\",\")\ntest_data \u003d np.genfromtxt( \"bank-note/test.csv\", delimiter\u003d\u0027,\u0027)\n\nx_train \u003d train_data[:, :-1]\ny_train \u003d train_data[:, -1]\n\nx_test \u003d test_data[:, :-1]\ny_test \u003d test_data[:, -1]\n\nx_train.shape, y_train.shape, x_test.shape, y_test.shape",
      "metadata": {
        "pycharm": {
          "metadata": false,
          "name": "#%%\n",
          "is_executing": false
        }
      }
    },
    {
      "cell_type": "markdown",
      "source": "### Normalize Data",
      "metadata": {
        "pycharm": {
          "metadata": false,
          "name": "#%% md\n"
        }
      }
    },
    {
      "cell_type": "code",
      "execution_count": 4,
      "outputs": [],
      "source": "x_train \u003d normalize(x_train, axis\u003d0)\nx_test \u003d normalize(x_test, axis\u003d0)",
      "metadata": {
        "pycharm": {
          "metadata": false,
          "name": "#%%\n",
          "is_executing": false
        }
      }
    },
    {
      "cell_type": "markdown",
      "source": "## Neural Network ",
      "metadata": {
        "pycharm": {
          "metadata": false
        }
      }
    },
    {
      "cell_type": "code",
      "execution_count": 5,
      "outputs": [],
      "source": "def create_nn_model(curr_depth, curr_width, act_func):\n    model \u003d Sequential()\n    if act_func \u003d\u003d \u0027relu\u0027: initializer \u003d keras.initializers.he_normal()\n    else: initializer \u003d keras.initializers.glorot_normal()\n        \n    # Add layers\n    for _ in range(curr_depth-1):\n        model.add(Dense(curr_width, activation\u003dActivation(act_func), kernel_initializer\u003dinitializer))\n    model.add(Dense(1, activation\u003dActivation(\u0027sigmoid\u0027), kernel_initializer\u003dinitializer))\n    \n    # Set loss and optimizer\n    model.compile(optimizer\u003d\u0027adam\u0027, loss\u003d\u0027binary_crossentropy\u0027, metrics\u003d[\u0027accuracy\u0027])\n    return model\n",
      "metadata": {
        "pycharm": {
          "metadata": false,
          "name": "#%%\n",
          "is_executing": false
        }
      }
    },
    {
      "cell_type": "markdown",
      "source": "### Check For Best Model Depending Width/Height",
      "metadata": {
        "pycharm": {
          "metadata": false
        }
      }
    },
    {
      "cell_type": "code",
      "execution_count": 6,
      "outputs": [],
      "source": "def is_smallest_width_model(curr_width, accuracy, highest_acc):\n    return accuracy \u003e highest_acc[-1] \\\n            or (accuracy \u003d\u003d highest_acc[-1] and curr_width \u003c highest_acc[1])\n\ndef is_smallest_depth_model(curr_depth, accuracy, highest_acc):\n    return accuracy \u003e highest_acc[-1] \\\n            or (accuracy \u003d\u003d highest_acc[-1] and curr_depth \u003c highest_acc[0])\n",
      "metadata": {
        "pycharm": {
          "metadata": false,
          "name": "#%%\n",
          "is_executing": false
        }
      }
    },
    {
      "cell_type": "markdown",
      "source": "### Train And Test A Model\n_Returns the best model._",
      "metadata": {
        "pycharm": {
          "metadata": false
        }
      }
    },
    {
      "cell_type": "code",
      "execution_count": 13,
      "outputs": [],
      "source": "def train_and_test_model(curr_depth, curr_width, act_func, highest_acc, smallest):\n    model \u003d create_nn_model(curr_depth, curr_width, act_func)\n            \n    # Train\n    model.fit(x_train, y_train, epochs\u003d10, verbose\u003d0)\n    \n    # Test\n    evaluation \u003d model.evaluate(x_test, y_test, verbose\u003d0)\n    accuracy \u003d evaluation[1]\n    \n    print(\"DEPTH\", curr_depth, \", WIDTH\", curr_width, \", ACCURACY\", accuracy)\n    \n    # Return the highest accuracy model with the smallest width/depth\n    if smallest \u003d\u003d \u0027width\u0027 and is_smallest_width_model(curr_width, accuracy, highest_acc):\n        return [curr_depth, curr_width, accuracy]\n    \n    elif smallest \u003d\u003d \u0027depth\u0027 and is_smallest_depth_model(curr_depth, accuracy, highest_acc):\n        return [curr_depth, curr_width, accuracy]\n    \n    else:\n        return highest_acc\n",
      "metadata": {
        "pycharm": {
          "metadata": false,
          "name": "#%%\n",
          "is_executing": false
        }
      }
    },
    {
      "cell_type": "markdown",
      "source": "## Relu Activation Function\n",
      "metadata": {
        "pycharm": {
          "metadata": false,
          "name": "#%% md\n"
        }
      }
    },
    {
      "cell_type": "markdown",
      "source": "### Depth\n",
      "metadata": {
        "pycharm": {
          "metadata": false
        }
      }
    },
    {
      "cell_type": "code",
      "execution_count": 14,
      "outputs": [],
      "source": "highest \u003d [0., 0., 0.]",
      "metadata": {
        "pycharm": {
          "metadata": false,
          "name": "#%%\n",
          "is_executing": false
        }
      }
    },
    {
      "cell_type": "code",
      "execution_count": 15,
      "outputs": [
        {
          "name": "stdout",
          "text": [
            "DEPTH 3 , WIDTH 5 , ACT relu , ACCURACY 0.7079999995231628\n",
            "DEPTH 3 , WIDTH 10 , ACT relu , ACCURACY 0.8900000009536743\n",
            "DEPTH 3 , WIDTH 25 , ACT relu , ACCURACY 0.9320000009536743\n",
            "DEPTH 3 , WIDTH 50 , ACT relu , ACCURACY 0.9779999995231629\n",
            "DEPTH 3 , WIDTH 100 , ACT relu , ACCURACY 0.992\n",
            "DEPTH 5 , WIDTH 5 , ACT relu , ACCURACY 0.9040000009536743\n",
            "DEPTH 5 , WIDTH 10 , ACT relu , ACCURACY 0.9819999995231629\n",
            "DEPTH 5 , WIDTH 25 , ACT relu , ACCURACY 1.0\n",
            "DEPTH 5 , WIDTH 50 , ACT relu , ACCURACY 1.0\n",
            "DEPTH 5 , WIDTH 100 , ACT relu , ACCURACY 1.0\n",
            "DEPTH 9 , WIDTH 5 , ACT relu , ACCURACY 0.9739999990463257\n",
            "DEPTH 9 , WIDTH 10 , ACT relu , ACCURACY 0.9799999995231629\n",
            "DEPTH 9 , WIDTH 25 , ACT relu , ACCURACY 1.0\n",
            "DEPTH 9 , WIDTH 50 , ACT relu , ACCURACY 1.0\n",
            "DEPTH 9 , WIDTH 100 , ACT relu , ACCURACY 1.0\n"
          ],
          "output_type": "stream"
        }
      ],
      "source": "activation \u003d \u0027relu\u0027\nfor depth in [3, 5, 9]:\n    for width in [5, 10, 25, 50, 100]:\n        highest \u003d train_and_test_model(depth, width, activation, highest, \u0027depth\u0027)",
      "metadata": {
        "pycharm": {
          "metadata": false,
          "name": "#%%\n",
          "is_executing": false
        }
      }
    },
    {
      "cell_type": "code",
      "execution_count": 16,
      "outputs": [
        {
          "name": "stdout",
          "text": [
            "HIGHEST: [5, 25, 1.0]\n"
          ],
          "output_type": "stream"
        }
      ],
      "source": "print(\"HIGHEST:\", highest)",
      "metadata": {
        "pycharm": {
          "metadata": false,
          "name": "#%%\n",
          "is_executing": false
        }
      }
    },
    {
      "cell_type": "markdown",
      "source": "### Width",
      "metadata": {
        "pycharm": {
          "metadata": false
        }
      }
    },
    {
      "cell_type": "code",
      "execution_count": 17,
      "outputs": [],
      "source": "highest \u003d [0., 0., 0.]",
      "metadata": {
        "pycharm": {
          "metadata": false,
          "name": "#%%\n",
          "is_executing": false
        }
      }
    },
    {
      "cell_type": "code",
      "execution_count": 18,
      "outputs": [
        {
          "name": "stdout",
          "text": [
            "DEPTH 3 , WIDTH 5 , ACT relu , ACCURACY 0.5759999990463257\n",
            "DEPTH 3 , WIDTH 10 , ACT relu , ACCURACY 0.8720000009536744\n",
            "DEPTH 3 , WIDTH 25 , ACT relu , ACCURACY 0.9280000009536743\n",
            "DEPTH 3 , WIDTH 50 , ACT relu , ACCURACY 0.978\n",
            "DEPTH 3 , WIDTH 100 , ACT relu , ACCURACY 0.996\n",
            "DEPTH 5 , WIDTH 5 , ACT relu , ACCURACY 0.854\n",
            "DEPTH 5 , WIDTH 10 , ACT relu , ACCURACY 0.9400000009536743\n",
            "DEPTH 5 , WIDTH 25 , ACT relu , ACCURACY 0.986\n",
            "DEPTH 5 , WIDTH 50 , ACT relu , ACCURACY 1.0\n",
            "DEPTH 5 , WIDTH 100 , ACT relu , ACCURACY 1.0\n",
            "DEPTH 9 , WIDTH 5 , ACT relu , ACCURACY 0.9659999990463257\n",
            "DEPTH 9 , WIDTH 10 , ACT relu , ACCURACY 0.992\n",
            "DEPTH 9 , WIDTH 25 , ACT relu , ACCURACY 1.0\n",
            "DEPTH 9 , WIDTH 50 , ACT relu , ACCURACY 1.0\n",
            "DEPTH 9 , WIDTH 100 , ACT relu , ACCURACY 1.0\n"
          ],
          "output_type": "stream"
        }
      ],
      "source": "activation \u003d \u0027relu\u0027\nfor depth in [3, 5, 9]:\n    for width in [5, 10, 25, 50, 100]:\n        highest \u003d train_and_test_model(depth, width, activation, highest, \u0027width\u0027)",
      "metadata": {
        "pycharm": {
          "metadata": false,
          "name": "#%%\n",
          "is_executing": false
        }
      }
    },
    {
      "cell_type": "code",
      "execution_count": 19,
      "outputs": [
        {
          "name": "stdout",
          "text": [
            "HIGHEST: [9, 25, 1.0]\n"
          ],
          "output_type": "stream"
        }
      ],
      "source": "print(\"HIGHEST:\", highest)",
      "metadata": {
        "pycharm": {
          "metadata": false,
          "name": "#%%\n",
          "is_executing": false
        }
      }
    },
    {
      "cell_type": "markdown",
      "source": "## Tanh Activation Function",
      "metadata": {
        "pycharm": {
          "metadata": false
        }
      }
    },
    {
      "cell_type": "markdown",
      "source": "### Depth",
      "metadata": {
        "pycharm": {
          "metadata": false
        }
      }
    },
    {
      "cell_type": "code",
      "execution_count": 20,
      "outputs": [],
      "source": "highest \u003d [0., 0., 0.]",
      "metadata": {
        "pycharm": {
          "metadata": false,
          "name": "#%%\n",
          "is_executing": false
        }
      }
    },
    {
      "cell_type": "code",
      "execution_count": 21,
      "outputs": [
        {
          "name": "stdout",
          "text": [
            "DEPTH 3 , WIDTH 5 , ACT tanh , ACCURACY 0.6239999990463256\n",
            "DEPTH 3 , WIDTH 10 , ACT tanh , ACCURACY 0.8900000009536743\n",
            "DEPTH 3 , WIDTH 25 , ACT tanh , ACCURACY 0.8900000009536743\n",
            "DEPTH 3 , WIDTH 50 , ACT tanh , ACCURACY 0.9739999995231629\n",
            "DEPTH 3 , WIDTH 100 , ACT tanh , ACCURACY 0.9839999995231629\n",
            "DEPTH 5 , WIDTH 5 , ACT tanh , ACCURACY 0.9019999990463257\n",
            "DEPTH 5 , WIDTH 10 , ACT tanh , ACCURACY 0.9560000009536743\n",
            "DEPTH 5 , WIDTH 25 , ACT tanh , ACCURACY 0.988\n",
            "DEPTH 5 , WIDTH 50 , ACT tanh , ACCURACY 0.986\n",
            "DEPTH 5 , WIDTH 100 , ACT tanh , ACCURACY 0.9779999990463257\n",
            "DEPTH 9 , WIDTH 5 , ACT tanh , ACCURACY 0.988\n",
            "DEPTH 9 , WIDTH 10 , ACT tanh , ACCURACY 0.98\n",
            "DEPTH 9 , WIDTH 25 , ACT tanh , ACCURACY 0.9879999995231629\n",
            "DEPTH 9 , WIDTH 50 , ACT tanh , ACCURACY 0.9839999995231629\n",
            "DEPTH 9 , WIDTH 100 , ACT tanh , ACCURACY 0.986\n"
          ],
          "output_type": "stream"
        }
      ],
      "source": "activation \u003d \u0027tanh\u0027\nfor depth in [3, 5, 9]:\n    for width in [5, 10, 25, 50, 100]:\n        highest \u003d train_and_test_model(depth, width, activation, highest, \u0027depth\u0027)",
      "metadata": {
        "pycharm": {
          "metadata": false,
          "name": "#%%\n",
          "is_executing": false
        }
      }
    },
    {
      "cell_type": "code",
      "execution_count": null,
      "outputs": [],
      "source": "print(\"HIGHEST:\", highest)",
      "metadata": {
        "pycharm": {
          "metadata": false,
          "name": "#%%\n"
        }
      }
    },
    {
      "cell_type": "markdown",
      "source": "### Width",
      "metadata": {
        "pycharm": {
          "metadata": false
        }
      }
    },
    {
      "cell_type": "code",
      "execution_count": null,
      "outputs": [],
      "source": "highest \u003d [0., 0., 0.]",
      "metadata": {
        "pycharm": {
          "metadata": false,
          "name": "#%%\n"
        }
      }
    },
    {
      "cell_type": "code",
      "execution_count": null,
      "outputs": [],
      "source": "activation \u003d \u0027tanh\u0027\nfor depth in [3, 5, 9]:\n    for width in [5, 10, 25, 50, 100]:\n        highest \u003d train_and_test_model(depth, width, activation, highest, \u0027width\u0027)",
      "metadata": {
        "pycharm": {
          "metadata": false,
          "name": "#%%\n"
        }
      }
    },
    {
      "cell_type": "code",
      "execution_count": null,
      "outputs": [],
      "source": "print(\"HIGHEST:\", highest)",
      "metadata": {
        "pycharm": {
          "metadata": false,
          "name": "#%%\n"
        }
      }
    }
  ],
  "metadata": {
    "language_info": {
      "codemirror_mode": {
        "name": "ipython",
        "version": 2
      },
      "file_extension": ".py",
      "mimetype": "text/x-python",
      "name": "python",
      "nbconvert_exporter": "python",
      "pygments_lexer": "ipython2",
      "version": "2.7.6"
    },
    "kernelspec": {
      "name": "python3",
      "language": "python",
      "display_name": "Python 3"
    },
    "stem_cell": {
      "cell_type": "raw",
      "source": "",
      "metadata": {
        "pycharm": {
          "metadata": false
        }
      }
    }
  },
  "nbformat": 4,
  "nbformat_minor": 0
}