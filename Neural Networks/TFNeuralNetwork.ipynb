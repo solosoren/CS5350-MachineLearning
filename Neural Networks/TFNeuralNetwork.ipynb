{
  "cells": [
    {
      "cell_type": "code",
      "execution_count": 7,
      "outputs": [],
      "source": "import numpy as np\nimport tensorflow as tf\nimport keras\nfrom keras.models import Sequential\nfrom keras.layers import Dense, Activation\nfrom sklearn.preprocessing import normalize",
      "metadata": {
        "pycharm": {
          "metadata": false,
          "name": "#%%\n",
          "is_executing": false
        }
      }
    },
    {
      "cell_type": "code",
      "execution_count": 8,
      "outputs": [
        {
          "name": "stdout",
          "text": [
            "1.16.2",
            "\n1.13.1\n"
          ],
          "output_type": "stream"
        }
      ],
      "source": "print( np.__version__)\nprint( tf.__version__)",
      "metadata": {
        "pycharm": {
          "metadata": false,
          "name": "#%%\n",
          "is_executing": false
        }
      }
    },
    {
      "cell_type": "markdown",
      "source": "# Import Data",
      "metadata": {
        "pycharm": {
          "metadata": false
        }
      }
    },
    {
      "cell_type": "code",
      "execution_count": 9,
      "outputs": [
        {
          "data": {
            "text/plain": "((872, 4), (872,), (500, 4), (500,))"
          },
          "metadata": {},
          "output_type": "execute_result",
          "execution_count": 9
        }
      ],
      "source": "train_data \u003d np.genfromtxt( \"bank-note/train.csv\", delimiter\u003d\",\")\ntest_data \u003d np.genfromtxt( \"bank-note/test.csv\", delimiter\u003d\u0027,\u0027)\n\nx_train \u003d train_data[:, :-1]\ny_train \u003d train_data[:, -1]\n\nx_test \u003d test_data[:, :-1]\ny_test \u003d test_data[:, -1]\n\nx_train.shape, y_train.shape, x_test.shape, y_test.shape",
      "metadata": {
        "pycharm": {
          "metadata": false,
          "name": "#%%\n",
          "is_executing": false
        }
      }
    },
    {
      "cell_type": "markdown",
      "source": "## Normalize Data",
      "metadata": {
        "pycharm": {
          "metadata": false,
          "name": "#%% md\n"
        }
      }
    },
    {
      "cell_type": "code",
      "execution_count": 10,
      "outputs": [],
      "source": "x_train \u003d normalize(x_train, axis\u003d0)\nx_test \u003d normalize(x_test, axis\u003d0)",
      "metadata": {
        "pycharm": {
          "metadata": false,
          "name": "#%%\n",
          "is_executing": false
        }
      }
    },
    {
      "cell_type": "markdown",
      "source": "# Neural Network ",
      "metadata": {
        "pycharm": {
          "metadata": false
        }
      }
    },
    {
      "cell_type": "code",
      "execution_count": 11,
      "outputs": [],
      "source": "def create_nn_model(curr_depth, curr_width, act_func):\n    model \u003d Sequential()\n    if act_func \u003d\u003d \u0027relu\u0027: initializer \u003d keras.initializers.he_normal()\n    else: initializer \u003d keras.initializers.glorot_normal()\n        \n    # Add layers\n    for _ in range(curr_depth-1):\n        model.add(Dense(curr_width, activation\u003dActivation(act_func), kernel_initializer\u003dinitializer))\n    model.add(Dense(1, activation\u003dActivation(\u0027sigmoid\u0027), kernel_initializer\u003dinitializer))\n    \n    # Set loss and optimizer\n    model.compile(optimizer\u003d\u0027adam\u0027, loss\u003d\u0027binary_crossentropy\u0027, metrics\u003d[\u0027accuracy\u0027])\n    return model\n",
      "metadata": {
        "pycharm": {
          "metadata": false,
          "name": "#%%\n",
          "is_executing": false
        }
      }
    },
    {
      "cell_type": "markdown",
      "source": "## Check For Best Model Depending Width/Height",
      "metadata": {
        "pycharm": {
          "metadata": false
        }
      }
    },
    {
      "cell_type": "code",
      "execution_count": null,
      "outputs": [],
      "source": "def is_smallest_width_model(curr_width, accuracy, highest_acc):\n    return accuracy \u003e highest_acc[-1] \\\n            or (accuracy \u003d\u003d highest_acc[-1] and curr_width \u003c highest_acc[1])\n\ndef is_smallest_depth_model(curr_depth, accuracy, highest_acc):\n    return accuracy \u003e highest_acc[-1] \\\n            or (accuracy \u003d\u003d highest_acc[-1] and curr_depth \u003c highest_acc[0])\n",
      "metadata": {
        "pycharm": {
          "metadata": false,
          "name": "#%%\n",
          "is_executing": true
        }
      }
    },
    {
      "cell_type": "markdown",
      "source": "## Train And Test A Model\n_Returns the best model._",
      "metadata": {
        "pycharm": {
          "metadata": false
        }
      }
    },
    {
      "cell_type": "code",
      "execution_count": 13,
      "outputs": [],
      "source": "def train_and_test_model(curr_depth, curr_width, act_func, highest_acc, smallest):\n    model \u003d create_nn_model(curr_depth, curr_width, act_func)\n            \n    # Train\n    model.fit(x_train, y_train, epochs\u003d10, verbose\u003d0)\n    \n    # Test\n    evaluation \u003d model.evaluate(x_test, y_test, verbose\u003d0)\n    accuracy \u003d evaluation[1]\n    \n    print(\"DEPTH\", curr_depth, \", WIDTH\", curr_width, \", ACCURACY\", accuracy)\n    \n    # Return the highest accuracy model with the smallest width/depth\n    if smallest \u003d\u003d \u0027width\u0027 and is_smallest_width_model(curr_width, accuracy, highest_acc):\n        return [curr_depth, curr_width, accuracy]\n    \n    elif smallest \u003d\u003d \u0027depth\u0027 and is_smallest_depth_model(curr_depth, accuracy, highest_acc):\n        return [curr_depth, curr_width, accuracy]\n    \n    else:\n        return highest_acc\n    ",
      "metadata": {
        "pycharm": {
          "metadata": false,
          "name": "#%%\n",
          "is_executing": false
        }
      }
    },
    {
      "cell_type": "markdown",
      "source": "## Run Neural Network On Each Width, Depth",
      "metadata": {
        "pycharm": {
          "metadata": false,
          "name": "#%% md\n"
        }
      }
    },
    {
      "cell_type": "code",
      "execution_count": 14,
      "outputs": [],
      "source": "def run_nn(act_func, lowest):\n    best_model \u003d [0., 0., 0.]\n    \n    for depth in [3, 5, 9]:\n        for width in [5, 10, 25, 50, 100]:\n            best_model \u003d train_and_test_model(depth, width, act_func, best_model, lowest)\n            \n    return best_model\n",
      "metadata": {
        "pycharm": {
          "metadata": false,
          "name": "#%%\n",
          "is_executing": false
        }
      }
    },
    {
      "cell_type": "markdown",
      "source": "# Relu Activation Function\n",
      "metadata": {
        "pycharm": {
          "metadata": false,
          "name": "#%% md\n"
        }
      }
    },
    {
      "cell_type": "markdown",
      "source": "## Depth\n",
      "metadata": {
        "pycharm": {
          "metadata": false
        }
      }
    },
    {
      "cell_type": "code",
      "execution_count": 15,
      "outputs": [
        {
          "name": "stdout",
          "text": [
            "WARNING:tensorflow:From /Users/solosoren/Library/Mobile Documents/com~apple~CloudDocs/School/Senior Year/1st Semester/Machine Learning/CS5350-MachineLearning/venv/lib/python3.7/site-packages/tensorflow/python/framework/op_def_library.py:263: colocate_with (from tensorflow.python.framework.ops) is deprecated and will be removed in a future version.\nInstructions for updating:\nColocations handled automatically by placer.\n",
            "WARNING:tensorflow:From /Users/solosoren/Library/Mobile Documents/com~apple~CloudDocs/School/Senior Year/1st Semester/Machine Learning/CS5350-MachineLearning/venv/lib/python3.7/site-packages/tensorflow/python/ops/math_ops.py:3066: to_int32 (from tensorflow.python.ops.math_ops) is deprecated and will be removed in a future version.\nInstructions for updating:\nUse tf.cast instead.\n",
            "DEPTH 3 , WIDTH 5 , ACCURACY 0.838\n",
            "DEPTH 3 , WIDTH 10 , ACCURACY 0.8620000009536744\n",
            "DEPTH 3 , WIDTH 25 , ACCURACY 0.9340000009536743\n",
            "DEPTH 3 , WIDTH 50 , ACCURACY 0.98\n",
            "DEPTH 3 , WIDTH 100 , ACCURACY 0.984\n",
            "DEPTH 5 , WIDTH 5 , ACCURACY 0.8600000004768371\n",
            "DEPTH 5 , WIDTH 10 , ACCURACY 0.9440000009536743\n",
            "DEPTH 5 , WIDTH 25 , ACCURACY 1.0\n",
            "DEPTH 5 , WIDTH 50 , ACCURACY 1.0\n",
            "DEPTH 5 , WIDTH 100 , ACCURACY 1.0\n",
            "DEPTH 9 , WIDTH 5 , ACCURACY 0.5579999990463257\n",
            "DEPTH 9 , WIDTH 10 , ACCURACY 0.996\n",
            "DEPTH 9 , WIDTH 25 , ACCURACY 1.0\n",
            "DEPTH 9 , WIDTH 50 , ACCURACY 1.0\n",
            "DEPTH 9 , WIDTH 100 , ACCURACY 1.0\n"
          ],
          "output_type": "stream"
        },
        {
          "name": "stderr",
          "text": [
            "/Users/solosoren/Library/Mobile Documents/com~apple~CloudDocs/School/Senior Year/1st Semester/Machine Learning/CS5350-MachineLearning/venv/lib/python3.7/site-packages/keras/activations.py:211: UserWarning: Do not pass a layer instance (such as Activation) as the activation argument of another layer. Instead, advanced activation layers should be used just like any other layer in a model.\n  identifier\u003didentifier.__class__.__name__))\n"
          ],
          "output_type": "stream"
        }
      ],
      "source": "highest_acc \u003d run_nn(\u0027relu\u0027, \u0027depth\u0027)",
      "metadata": {
        "pycharm": {
          "metadata": false,
          "name": "#%%\n",
          "is_executing": false
        }
      }
    },
    {
      "cell_type": "code",
      "execution_count": null,
      "outputs": [
        {
          "name": "stdout",
          "text": [
            "HIGHEST: [5, 25, 1.0]\n"
          ],
          "output_type": "stream"
        }
      ],
      "source": "print(\"HIGHEST:\", highest_acc)",
      "metadata": {
        "pycharm": {
          "metadata": false,
          "name": "#%%\n",
          "is_executing": true
        }
      }
    },
    {
      "cell_type": "markdown",
      "source": "## Width",
      "metadata": {
        "pycharm": {
          "metadata": false
        }
      }
    },
    {
      "cell_type": "code",
      "execution_count": 17,
      "outputs": [
        {
          "name": "stdout",
          "text": [
            "DEPTH 3 , WIDTH 5 , ACCURACY 0.5899999990463257\n",
            "DEPTH 3 , WIDTH 10 , ACCURACY 0.8620000004768371\n",
            "DEPTH 3 , WIDTH 25 , ACCURACY 0.8940000009536743\n",
            "DEPTH 3 , WIDTH 50 , ACCURACY 0.9759999995231629\n",
            "DEPTH 3 , WIDTH 100 , ACCURACY 0.998\n",
            "DEPTH 5 , WIDTH 5 , ACCURACY 0.8960000009536743\n",
            "DEPTH 5 , WIDTH 10 , ACCURACY 0.9559999995231628\n",
            "DEPTH 5 , WIDTH 25 , ACCURACY 1.0\n",
            "DEPTH 5 , WIDTH 50 , ACCURACY 1.0\n",
            "DEPTH 5 , WIDTH 100 , ACCURACY 1.0\n",
            "DEPTH 9 , WIDTH 5 , ACCURACY 0.9759999995231629\n",
            "DEPTH 9 , WIDTH 10 , ACCURACY 0.9819999995231629\n",
            "DEPTH 9 , WIDTH 25 , ACCURACY 1.0\n",
            "DEPTH 9 , WIDTH 50 , ACCURACY 1.0\n",
            "DEPTH 9 , WIDTH 100 , ACCURACY 1.0\n"
          ],
          "output_type": "stream"
        }
      ],
      "source": "highest_acc \u003d run_nn(\u0027relu\u0027, \u0027width\u0027)",
      "metadata": {
        "pycharm": {
          "metadata": false,
          "name": "#%%\n",
          "is_executing": false
        }
      }
    },
    {
      "cell_type": "code",
      "execution_count": 18,
      "outputs": [
        {
          "name": "stdout",
          "text": [
            "HIGHEST: [5, 25, 1.0]\n"
          ],
          "output_type": "stream"
        }
      ],
      "source": "print(\"HIGHEST:\", highest_acc)",
      "metadata": {
        "pycharm": {
          "metadata": false,
          "name": "#%%\n",
          "is_executing": false
        }
      }
    },
    {
      "cell_type": "markdown",
      "source": "# Tanh Activation Function",
      "metadata": {
        "pycharm": {
          "metadata": false
        }
      }
    },
    {
      "cell_type": "markdown",
      "source": "## Depth",
      "metadata": {
        "pycharm": {
          "metadata": false
        }
      }
    },
    {
      "cell_type": "code",
      "execution_count": 19,
      "outputs": [
        {
          "name": "stdout",
          "text": [
            "DEPTH 3 , WIDTH 5 , ACCURACY 0.708\n",
            "DEPTH 3 , WIDTH 10 , ACCURACY 0.806\n",
            "DEPTH 3 , WIDTH 25 , ACCURACY 0.8960000009536743\n",
            "DEPTH 3 , WIDTH 50 , ACCURACY 0.9619999995231628\n",
            "DEPTH 3 , WIDTH 100 , ACCURACY 0.9899999995231629\n",
            "DEPTH 5 , WIDTH 5 , ACCURACY 0.798\n",
            "DEPTH 5 , WIDTH 10 , ACCURACY 0.9759999995231629\n",
            "DEPTH 5 , WIDTH 25 , ACCURACY 0.992\n",
            "DEPTH 5 , WIDTH 50 , ACCURACY 0.99\n",
            "DEPTH 5 , WIDTH 100 , ACCURACY 0.988\n",
            "DEPTH 9 , WIDTH 5 , ACCURACY 0.9839999995231629\n",
            "DEPTH 9 , WIDTH 10 , ACCURACY 0.9699999995231628\n",
            "DEPTH 9 , WIDTH 25 , ACCURACY 0.984\n",
            "DEPTH 9 , WIDTH 50 , ACCURACY 0.99\n",
            "DEPTH 9 , WIDTH 100 , ACCURACY 0.9699999995231628\n"
          ],
          "output_type": "stream"
        }
      ],
      "source": "highest_acc \u003d run_nn(\u0027tanh\u0027, \u0027depth\u0027)",
      "metadata": {
        "pycharm": {
          "metadata": false,
          "name": "#%%\n",
          "is_executing": false
        }
      }
    },
    {
      "cell_type": "code",
      "execution_count": 20,
      "outputs": [
        {
          "name": "stdout",
          "text": [
            "HIGHEST: [5, 25, 0.992]\n"
          ],
          "output_type": "stream"
        }
      ],
      "source": "print(\"HIGHEST:\", highest_acc)",
      "metadata": {
        "pycharm": {
          "metadata": false,
          "name": "#%%\n",
          "is_executing": false
        }
      }
    },
    {
      "cell_type": "markdown",
      "source": "## Width",
      "metadata": {
        "pycharm": {
          "metadata": false
        }
      }
    },
    {
      "cell_type": "code",
      "execution_count": 21,
      "outputs": [
        {
          "name": "stdout",
          "text": [
            "DEPTH 3 , WIDTH 5 , ACCURACY 0.83\n",
            "DEPTH 3 , WIDTH 10 , ACCURACY 0.826\n",
            "DEPTH 3 , WIDTH 25 , ACCURACY 0.9019999990463257\n",
            "DEPTH 3 , WIDTH 50 , ACCURACY 0.9599999995231628\n",
            "DEPTH 3 , WIDTH 100 , ACCURACY 0.982\n",
            "DEPTH 5 , WIDTH 5 , ACCURACY 0.9340000009536743\n",
            "DEPTH 5 , WIDTH 10 , ACCURACY 0.9579999990463257\n",
            "DEPTH 5 , WIDTH 25 , ACCURACY 0.984\n",
            "DEPTH 5 , WIDTH 50 , ACCURACY 0.9819999995231629\n",
            "DEPTH 5 , WIDTH 100 , ACCURACY 0.988\n",
            "DEPTH 9 , WIDTH 5 , ACCURACY 0.988\n",
            "DEPTH 9 , WIDTH 10 , ACCURACY 0.99\n",
            "DEPTH 9 , WIDTH 25 , ACCURACY 0.986\n",
            "DEPTH 9 , WIDTH 50 , ACCURACY 0.9819999995231629\n",
            "DEPTH 9 , WIDTH 100 , ACCURACY 0.99\n"
          ],
          "output_type": "stream"
        }
      ],
      "source": "highest_acc \u003d run_nn(\u0027tanh\u0027, \u0027width\u0027)",
      "metadata": {
        "pycharm": {
          "metadata": false,
          "name": "#%%\n",
          "is_executing": false
        }
      }
    },
    {
      "cell_type": "code",
      "execution_count": 22,
      "outputs": [
        {
          "name": "stdout",
          "text": [
            "HIGHEST: [9, 10, 0.99]\n"
          ],
          "output_type": "stream"
        }
      ],
      "source": "print(\"HIGHEST:\", highest_acc)\n",
      "metadata": {
        "pycharm": {
          "metadata": false,
          "name": "#%%\n",
          "is_executing": false
        }
      }
    }
  ],
  "metadata": {
    "language_info": {
      "codemirror_mode": {
        "name": "ipython",
        "version": 2
      },
      "file_extension": ".py",
      "mimetype": "text/x-python",
      "name": "python",
      "nbconvert_exporter": "python",
      "pygments_lexer": "ipython2",
      "version": "2.7.6"
    },
    "kernelspec": {
      "name": "python3",
      "language": "python",
      "display_name": "Python 3"
    },
    "stem_cell": {
      "cell_type": "raw",
      "source": "",
      "metadata": {
        "pycharm": {
          "metadata": false
        }
      }
    }
  },
  "nbformat": 4,
  "nbformat_minor": 0
}
